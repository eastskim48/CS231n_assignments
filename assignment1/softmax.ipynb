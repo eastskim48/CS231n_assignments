{
 "cells": [
  {
   "cell_type": "markdown",
   "metadata": {},
   "source": [
    "# Softmax exercise\n",
    "\n",
    "*Complete and hand in this completed worksheet (including its outputs and any supporting code outside of the worksheet) with your assignment submission. For more details see the [assignments page](http://vision.stanford.edu/teaching/cs231n/assignments.html) on the course website.*\n",
    "\n",
    "This exercise is analogous to the SVM exercise. You will:\n",
    "\n",
    "- implement a fully-vectorized **loss function** for the Softmax classifier\n",
    "- implement the fully-vectorized expression for its **analytic gradient**\n",
    "- **check your implementation** with numerical gradient\n",
    "- use a validation set to **tune the learning rate and regularization** strength\n",
    "- **optimize** the loss function with **SGD**\n",
    "- **visualize** the final learned weights\n"
   ]
  },
  {
   "cell_type": "code",
   "execution_count": 2,
   "metadata": {},
   "outputs": [],
   "source": [
    "import random\n",
    "import numpy as np\n",
    "from cs231n.data_utils import load_CIFAR10\n",
    "import matplotlib.pyplot as plt\n",
    "\n",
    "from __future__ import print_function\n",
    "\n",
    "%matplotlib inline\n",
    "plt.rcParams['figure.figsize'] = (10.0, 8.0) # set default size of plots\n",
    "plt.rcParams['image.interpolation'] = 'nearest'\n",
    "plt.rcParams['image.cmap'] = 'gray'\n",
    "\n",
    "# for auto-reloading extenrnal modules\n",
    "# see http://stackoverflow.com/questions/1907993/autoreload-of-modules-in-ipython\n",
    "%load_ext autoreload\n",
    "%autoreload 2"
   ]
  },
  {
   "cell_type": "code",
   "execution_count": 3,
   "metadata": {},
   "outputs": [
    {
     "name": "stdout",
     "output_type": "stream",
     "text": [
      "Train data shape:  (49000, 3073)\n",
      "Train labels shape:  (49000,)\n",
      "Validation data shape:  (1000, 3073)\n",
      "Validation labels shape:  (1000,)\n",
      "Test data shape:  (1000, 3073)\n",
      "Test labels shape:  (1000,)\n",
      "dev data shape:  (500, 3073)\n",
      "dev labels shape:  (500,)\n"
     ]
    }
   ],
   "source": [
    "def get_CIFAR10_data(num_training=49000, num_validation=1000, num_test=1000, num_dev=500):\n",
    "    \"\"\"\n",
    "    Load the CIFAR-10 dataset from disk and perform preprocessing to prepare\n",
    "    it for the linear classifier. These are the same steps as we used for the\n",
    "    SVM, but condensed to a single function.  \n",
    "    \"\"\"\n",
    "    # Load the raw CIFAR-10 data\n",
    "    cifar10_dir = 'cs231n/datasets/cifar-10-batches-py'\n",
    "    X_train, y_train, X_test, y_test = load_CIFAR10(cifar10_dir)\n",
    "    \n",
    "    # subsample the data\n",
    "    mask = list(range(num_training, num_training + num_validation))\n",
    "    X_val = X_train[mask]\n",
    "    y_val = y_train[mask]\n",
    "    mask = list(range(num_training))\n",
    "    X_train = X_train[mask]\n",
    "    y_train = y_train[mask]\n",
    "    mask = list(range(num_test))\n",
    "    X_test = X_test[mask]\n",
    "    y_test = y_test[mask]\n",
    "    mask = np.random.choice(num_training, num_dev, replace=False) #dev는 num_training개중에 중복없이 랜덤 num_dev개 뽑은 것 (minibatch)\n",
    "    X_dev = X_train[mask]\n",
    "    y_dev = y_train[mask] #지금은 그냥 다 가로로 이어 붙인 것\n",
    "    \n",
    "    # Preprocessing: reshape the image data into rows\n",
    "    X_train = np.reshape(X_train, (X_train.shape[0], -1))\n",
    "    X_val = np.reshape(X_val, (X_val.shape[0], -1))\n",
    "    X_test = np.reshape(X_test, (X_test.shape[0], -1))\n",
    "    X_dev = np.reshape(X_dev, (X_dev.shape[0], -1)) # training set 수 * image size로 변경\n",
    "    \n",
    "    # Normalize the data: subtract the mean image\n",
    "    mean_image = np.mean(X_train, axis = 0)\n",
    "    X_train -= mean_image\n",
    "    X_val -= mean_image\n",
    "    X_test -= mean_image\n",
    "    X_dev -= mean_image\n",
    "    \n",
    "    # add bias dimension and transform into columns\n",
    "    X_train = np.hstack([X_train, np.ones((X_train.shape[0], 1))])\n",
    "    X_val = np.hstack([X_val, np.ones((X_val.shape[0], 1))])\n",
    "    X_test = np.hstack([X_test, np.ones((X_test.shape[0], 1))])\n",
    "    X_dev = np.hstack([X_dev, np.ones((X_dev.shape[0], 1))]) # ts수 * (param size = imagesize+1)로 변경\n",
    "    \n",
    "    return X_train, y_train, X_val, y_val, X_test, y_test, X_dev, y_dev\n",
    "\n",
    "\n",
    "# Invoke the above function to get our data.\n",
    "X_train, y_train, X_val, y_val, X_test, y_test, X_dev, y_dev = get_CIFAR10_data()\n",
    "print('Train data shape: ', X_train.shape)\n",
    "print('Train labels shape: ', y_train.shape)\n",
    "print('Validation data shape: ', X_val.shape)\n",
    "print('Validation labels shape: ', y_val.shape)\n",
    "print('Test data shape: ', X_test.shape)\n",
    "print('Test labels shape: ', y_test.shape)\n",
    "print('dev data shape: ', X_dev.shape)\n",
    "print('dev labels shape: ', y_dev.shape)"
   ]
  },
  {
   "cell_type": "markdown",
   "metadata": {},
   "source": [
    "## Softmax Classifier\n",
    "\n",
    "Your code for this section will all be written inside **cs231n/classifiers/softmax.py**. \n"
   ]
  },
  {
   "cell_type": "code",
   "execution_count": 4,
   "metadata": {},
   "outputs": [
    {
     "name": "stdout",
     "output_type": "stream",
     "text": [
      "loss: 2.385271\n",
      "sanity check: 2.302585\n"
     ]
    }
   ],
   "source": [
    "# First implement the naive softmax loss function with nested loops.\n",
    "# Open the file cs231n/classifiers/softmax.py and implement the\n",
    "# softmax_loss_naive function.\n",
    "\n",
    "from cs231n.classifiers.softmax import softmax_loss_naive\n",
    "import time\n",
    "\n",
    "# Generate a random softmax weight matrix and use it to compute the loss.\n",
    "W = np.random.randn(3073, 10) * 0.0001\n",
    "loss, grad = softmax_loss_naive(W, X_dev, y_dev, 0.0)\n",
    "\n",
    "# As a rough sanity check, our loss should be something close to -log(0.1).\n",
    "print('loss: %f' % loss)\n",
    "print('sanity check: %f' % (-np.log(0.1)))"
   ]
  },
  {
   "cell_type": "markdown",
   "metadata": {},
   "source": [
    "## Inline Question 1:\n",
    "Why do we expect our loss to be close to -log(0.1)? Explain briefly.**\n",
    "\n",
    "**Your answer:** *Fill this in*\n"
   ]
  },
  {
   "cell_type": "code",
   "execution_count": 5,
   "metadata": {},
   "outputs": [
    {
     "name": "stdout",
     "output_type": "stream",
     "text": [
      "numerical: 0.481949 analytic: 0.481949, relative error: 2.069596e-07\n",
      "numerical: -2.428213 analytic: -2.428213, relative error: 1.265916e-08\n",
      "numerical: -1.426626 analytic: -1.426626, relative error: 2.945098e-08\n",
      "numerical: -2.799845 analytic: -2.799845, relative error: 1.101711e-08\n",
      "numerical: -0.651892 analytic: -0.651892, relative error: 1.351662e-07\n",
      "numerical: 2.033898 analytic: 2.033898, relative error: 1.012849e-08\n",
      "numerical: -0.211942 analytic: -0.211942, relative error: 1.475367e-07\n",
      "numerical: 4.007933 analytic: 4.007933, relative error: 1.010195e-08\n",
      "numerical: -0.102485 analytic: -0.102485, relative error: 1.071070e-06\n",
      "numerical: 2.082334 analytic: 2.082334, relative error: 1.886230e-09\n",
      "numerical: -1.195326 analytic: -1.313927, relative error: 4.726512e-02\n",
      "numerical: 2.606835 analytic: 2.473540, relative error: 2.623728e-02\n",
      "numerical: 0.169222 analytic: 0.041312, relative error: 6.075545e-01\n",
      "numerical: 2.272702 analytic: 2.137455, relative error: 3.066712e-02\n",
      "numerical: -2.057628 analytic: -2.184955, relative error: 3.001159e-02\n",
      "numerical: 0.423345 analytic: 0.301072, relative error: 1.687874e-01\n",
      "numerical: 2.202464 analytic: 2.080334, relative error: 2.851633e-02\n",
      "numerical: 0.117230 analytic: -0.013952, relative error: 1.000000e+00\n",
      "numerical: -0.033062 analytic: -0.170264, relative error: 6.747888e-01\n",
      "numerical: -2.572403 analytic: -2.703777, relative error: 2.489948e-02\n"
     ]
    }
   ],
   "source": [
    "# Answer for Inline Question 1\n",
    "# If loss is -log(0.1), it means that the initial probablity to choose the correct class is 1/10.\n",
    "# And the number of output class in this softmax clasifier is 10.\n",
    "# So these means that initial weight is well distributed, because all possibilities to each class before training are all same, not biased.\n",
    "# For this reason, We expect our loss to be closs to -log(0.1) in this network.\n",
    "#\n",
    "#\n",
    "# Complete the implementation of softmax_loss_naive and implement a (naive)\n",
    "# version of the gradient that uses nested loops.\n",
    "loss, grad = softmax_loss_naive(W, X_dev, y_dev, 0.0)\n",
    "\n",
    "# As we did for the SVM, use numeric gradient checking as a debugging tool.\n",
    "# The numeric gradient should be close to the analytic gradient.\n",
    "from cs231n.gradient_check import grad_check_sparse\n",
    "f = lambda w: softmax_loss_naive(w, X_dev, y_dev, 0.0)[0]\n",
    "grad_numerical = grad_check_sparse(f, W, grad, 10)\n",
    "\n",
    "# similar to SVM case, do another gradient check with regularization\n",
    "loss, grad = softmax_loss_naive(W, X_dev, y_dev, 5e1)\n",
    "f = lambda w: softmax_loss_naive(w, X_dev, y_dev, 5e1)[0]\n",
    "grad_numerical = grad_check_sparse(f, W, grad, 10)"
   ]
  },
  {
   "cell_type": "code",
   "execution_count": 7,
   "metadata": {},
   "outputs": [
    {
     "name": "stdout",
     "output_type": "stream",
     "text": [
      "naive loss: 2.385271e+00 computed in 16.227470s\n",
      "vectorized loss: 2.385271e+00 computed in 0.004766s\n",
      "Loss difference: 0.000000\n",
      "Gradient difference: 0.000000\n"
     ]
    }
   ],
   "source": [
    "# Now that we have a naive implementation of the softmax loss function and its gradient,\n",
    "# implement a vectorized version in softmax_loss_vectorized.\n",
    "# The two versions should compute the same results, but the vectorized version should be\n",
    "# much faster.\n",
    "tic = time.time()\n",
    "loss_naive, grad_naive = softmax_loss_naive(W, X_dev, y_dev, 0.000005)\n",
    "toc = time.time()\n",
    "print('naive loss: %e computed in %fs' % (loss_naive, toc - tic))\n",
    "\n",
    "from cs231n.classifiers.softmax import softmax_loss_vectorized\n",
    "tic = time.time()\n",
    "loss_vectorized, grad_vectorized = softmax_loss_vectorized(W, X_dev, y_dev, 0.000005)\n",
    "toc = time.time()\n",
    "print('vectorized loss: %e computed in %fs' % (loss_vectorized, toc - tic))\n",
    "\n",
    "# As we did for the SVM, we use the Frobenius norm to compare the two versions\n",
    "# of the gradient.\n",
    "grad_difference = np.linalg.norm(grad_naive - grad_vectorized, ord='fro')\n",
    "print('Loss difference: %f' % np.abs(loss_naive - loss_vectorized))\n",
    "print('Gradient difference: %f' % grad_difference)"
   ]
  },
  {
   "cell_type": "code",
   "execution_count": 17,
   "metadata": {},
   "outputs": [
    {
     "name": "stdout",
     "output_type": "stream",
     "text": [
      "iteration 0 / 1500: loss 597.937388\n",
      "iteration 100 / 1500: loss 362.188125\n",
      "iteration 200 / 1500: loss 220.177059\n",
      "iteration 300 / 1500: loss 134.156933\n",
      "iteration 400 / 1500: loss 82.230664\n",
      "iteration 500 / 1500: loss 50.581599\n",
      "iteration 600 / 1500: loss 31.396443\n",
      "iteration 700 / 1500: loss 19.804302\n",
      "iteration 800 / 1500: loss 12.675315\n",
      "iteration 900 / 1500: loss 8.512648\n",
      "iteration 1000 / 1500: loss 5.976556\n",
      "iteration 1100 / 1500: loss 4.327125\n",
      "iteration 1200 / 1500: loss 3.419760\n",
      "iteration 1300 / 1500: loss 2.768675\n",
      "iteration 1400 / 1500: loss 2.557181\n",
      "iteration 0 / 1500: loss 873.214278\n",
      "iteration 100 / 1500: loss 321.245323\n",
      "iteration 200 / 1500: loss 119.111975\n",
      "iteration 300 / 1500: loss 44.959617\n",
      "iteration 400 / 1500: loss 17.835322\n",
      "iteration 500 / 1500: loss 7.789920\n",
      "iteration 600 / 1500: loss 4.096337\n",
      "iteration 700 / 1500: loss 2.788829\n",
      "iteration 800 / 1500: loss 2.294944\n",
      "iteration 900 / 1500: loss 2.151838\n",
      "iteration 1000 / 1500: loss 2.013345\n",
      "iteration 1100 / 1500: loss 1.964032\n",
      "iteration 1200 / 1500: loss 2.015708\n",
      "iteration 1300 / 1500: loss 2.010296\n",
      "iteration 1400 / 1500: loss 2.019765\n",
      "iteration 0 / 1500: loss 286.049540\n",
      "iteration 100 / 1500: loss 24.599275\n",
      "iteration 200 / 1500: loss 3.795226\n",
      "iteration 300 / 1500: loss 2.053268\n",
      "iteration 400 / 1500: loss 1.866313\n",
      "iteration 500 / 1500: loss 2.036410\n",
      "iteration 600 / 1500: loss 1.961273\n",
      "iteration 700 / 1500: loss 1.918883\n",
      "iteration 800 / 1500: loss 2.027696\n",
      "iteration 900 / 1500: loss 1.948183\n",
      "iteration 1000 / 1500: loss 1.885244\n",
      "iteration 1100 / 1500: loss 1.906341\n",
      "iteration 1200 / 1500: loss 1.979216\n",
      "iteration 1300 / 1500: loss 1.932537\n",
      "iteration 1400 / 1500: loss 1.958083\n",
      "iteration 0 / 1500: loss 2295.565408\n",
      "iteration 100 / 1500: loss 16.411200\n",
      "iteration 200 / 1500: loss 2.112555\n",
      "iteration 300 / 1500: loss 2.023591\n",
      "iteration 400 / 1500: loss 1.989651\n",
      "iteration 500 / 1500: loss 1.965992\n",
      "iteration 600 / 1500: loss 2.010457\n",
      "iteration 700 / 1500: loss 2.021078\n",
      "iteration 800 / 1500: loss 1.992193\n",
      "iteration 900 / 1500: loss 1.985255\n",
      "iteration 1000 / 1500: loss 1.984707\n",
      "iteration 1100 / 1500: loss 1.980046\n",
      "iteration 1200 / 1500: loss 2.067928\n",
      "iteration 1300 / 1500: loss 1.983451\n",
      "iteration 1400 / 1500: loss 2.038568\n",
      "lr 1.000000e-07 reg 2.500000e+04 train accuracy: 0.348469 val accuracy: 0.366000\n",
      "lr 1.000000e-07 reg 5.000000e+04 train accuracy: 0.330000 val accuracy: 0.339000\n",
      "lr 5.000000e-07 reg 2.500000e+04 train accuracy: 0.349490 val accuracy: 0.364000\n",
      "lr 5.000000e-07 reg 5.000000e+04 train accuracy: 0.315816 val accuracy: 0.334000\n",
      "best validation accuracy achieved during cross-validation: 0.366000\n"
     ]
    }
   ],
   "source": [
    "# Use the validation set to tune hyperparameters (regularization strength and\n",
    "# learning rate). You should experiment with different ranges for the learning\n",
    "# rates and regularization strengths; if you are careful you should be able to\n",
    "# get a classification accuracy of over 0.35 on the validation set.\n",
    "from cs231n.classifiers import Softmax\n",
    "results = {}\n",
    "best_val = -1\n",
    "best_softmax = None\n",
    "learning_rates = [1e-7, 5e-7]\n",
    "regularization_strengths = [2.5e4, 5e4]\n",
    "parameters=[]\n",
    "for l in learning_rates:\n",
    "    for r in regularization_strengths:\n",
    "        sm=Softmax()\n",
    "        sm.train(X_train, y_train, learning_rate=l, reg=r, num_iters=1500, verbose=True)\n",
    "        acc_train=np.mean(y_train==sm.predict(X_train))\n",
    "        acc_val=np.mean(y_val==sm.predict(X_val))\n",
    "        if acc_val>best_val:\n",
    "            best_val=acc_val\n",
    "            best_softmax=sm\n",
    "        results[(l,r)]=(acc_train,acc_val)    \n",
    "################################################################################\n",
    "# TODO:                                                                        #\n",
    "# Use the validation set to set the learning rate and regularization strength. #\n",
    "# This should be identical to the validation that you did for the SVM; save    #\n",
    "# the best trained softmax classifer in best_softmax.                          #\n",
    "################################################################################\n",
    "pass\n",
    "################################################################################\n",
    "#                              END OF YOUR CODE                                #\n",
    "################################################################################\n",
    "    \n",
    "# Print out results.\n",
    "for lr, reg in sorted(results):\n",
    "    train_accuracy, val_accuracy = results[(lr, reg)]\n",
    "    print('lr %e reg %e train accuracy: %f val accuracy: %f' % (\n",
    "                lr, reg, train_accuracy, val_accuracy))\n",
    "    \n",
    "print('best validation accuracy achieved during cross-validation: %f' % best_val)"
   ]
  },
  {
   "cell_type": "code",
   "execution_count": 18,
   "metadata": {},
   "outputs": [
    {
     "name": "stdout",
     "output_type": "stream",
     "text": [
      "softmax on raw pixels final test set accuracy: 0.356000\n"
     ]
    }
   ],
   "source": [
    "# evaluate on test set\n",
    "# Evaluate the best softmax on test set\n",
    "y_test_pred = best_softmax.predict(X_test)\n",
    "test_accuracy = np.mean(y_test == y_test_pred)\n",
    "print('softmax on raw pixels final test set accuracy: %f' % (test_accuracy, ))"
   ]
  },
  {
   "cell_type": "code",
   "execution_count": 19,
   "metadata": {},
   "outputs": [
    {
     "data": {
      "image/png": "[encoded data removed]",
      "text/plain": [
       "<Figure size 432x288 with 10 Axes>"
      ]
     },
     "metadata": {},
     "output_type": "display_data"
    }
   ],
   "source": [
    "# Visualize the learned weights for each class\n",
    "w = best_softmax.W[:-1,:] # strip out the bias\n",
    "w = w.reshape(32, 32, 3, 10)\n",
    "\n",
    "w_min, w_max = np.min(w), np.max(w)\n",
    "\n",
    "classes = ['plane', 'car', 'bird', 'cat', 'deer', 'dog', 'frog', 'horse', 'ship', 'truck']\n",
    "for i in range(10):\n",
    "    plt.subplot(2, 5, i + 1)\n",
    "    \n",
    "    # Rescale the weights to be between 0 and 255\n",
    "    wimg = 255.0 * (w[:, :, :, i].squeeze() - w_min) / (w_max - w_min)\n",
    "    plt.imshow(wimg.astype('uint8'))\n",
    "    plt.axis('off')\n",
    "    plt.title(classes[i])"
   ]
  },
  {
   "cell_type": "code",
   "execution_count": null,
   "metadata": {},
   "outputs": [],
   "source": []
  }
 ],
 "metadata": {
  "kernelspec": {
   "display_name": "PyTorch",
   "language": "python",
   "name": "pytorch"
  },
  "language_info": {
   "codemirror_mode": {
    "name": "ipython",
    "version": 3
   },
   "file_extension": ".py",
   "mimetype": "text/x-python",
   "name": "python",
   "nbconvert_exporter": "python",
   "pygments_lexer": "ipython3",
   "version": "3.7.0"
  }
 },
 "nbformat": 4,
 "nbformat_minor": 1
}
